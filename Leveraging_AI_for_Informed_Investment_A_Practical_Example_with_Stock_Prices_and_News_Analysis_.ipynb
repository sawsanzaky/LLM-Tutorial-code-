{
  "nbformat": 4,
  "nbformat_minor": 0,
  "metadata": {
    "colab": {
      "provenance": [],
      "authorship_tag": "ABX9TyOKjkjvCp9ZjzvvesrdHaZE",
      "include_colab_link": true
    },
    "kernelspec": {
      "name": "python3",
      "display_name": "Python 3"
    },
    "language_info": {
      "name": "python"
    }
  },
  "cells": [
    {
      "cell_type": "markdown",
      "metadata": {
        "id": "view-in-github",
        "colab_type": "text"
      },
      "source": [
        "<a href=\"https://colab.research.google.com/github/sawsanzaky/LLM-Tutorial-code-/blob/main/Leveraging_AI_for_Informed_Investment_A_Practical_Example_with_Stock_Prices_and_News_Analysis_.ipynb\" target=\"_parent\"><img src=\"https://colab.research.google.com/assets/colab-badge.svg\" alt=\"Open In Colab\"/></a>"
      ]
    },
    {
      "cell_type": "markdown",
      "source": [
        "**1. Fetching Stock Prices with yfinance:**"
      ],
      "metadata": {
        "id": "dkD5cW6ypQ0Q"
      }
    },
    {
      "cell_type": "markdown",
      "source": [
        "*yfinance *is a Python library that allows us to retrieve historical stock data. In our example, we'll fetch stock prices for the last year using this library."
      ],
      "metadata": {
        "id": "NyAGIqpdpZuX"
      }
    },
    {
      "cell_type": "code",
      "execution_count": 1,
      "metadata": {
        "id": "8bVqkc-qpEMq"
      },
      "outputs": [],
      "source": [
        "import yfinance as yf\n",
        "\n",
        "def get_stock_data(ticker):\n",
        "    stock = yf.Ticker(ticker)\n",
        "    data = stock.history(period='1y')\n",
        "    return data"
      ]
    },
    {
      "cell_type": "code",
      "source": [
        "get_stock_data"
      ],
      "metadata": {
        "colab": {
          "base_uri": "https://localhost:8080/",
          "height": 103
        },
        "id": "N-50iha1pTZx",
        "outputId": "6be8707a-b4c5-4ae1-e330-fa3b5052b64a"
      },
      "execution_count": 5,
      "outputs": [
        {
          "output_type": "execute_result",
          "data": {
            "text/plain": [
              "<function __main__.get_stock_data(ticker)>"
            ],
            "text/html": [
              "<div style=\"max-width:800px; border: 1px solid var(--colab-border-color);\"><style>\n",
              "      pre.function-repr-contents {\n",
              "        overflow-x: auto;\n",
              "        padding: 8px 12px;\n",
              "        max-height: 500px;\n",
              "      }\n",
              "\n",
              "      pre.function-repr-contents.function-repr-contents-collapsed {\n",
              "        cursor: pointer;\n",
              "        max-height: 100px;\n",
              "      }\n",
              "    </style>\n",
              "    <pre style=\"white-space: initial; background:\n",
              "         var(--colab-secondary-surface-color); padding: 8px 12px;\n",
              "         border-bottom: 1px solid var(--colab-border-color);\"><b>get_stock_data</b><br/>def get_stock_data(ticker)</pre><pre class=\"function-repr-contents function-repr-contents-collapsed\" style=\"\"><a class=\"filepath\" style=\"display:none\" href=\"#\">/content/&lt;ipython-input-1-e4785a57b08d&gt;</a>&lt;no docstring&gt;</pre></div>"
            ]
          },
          "metadata": {},
          "execution_count": 5
        }
      ]
    },
    {
      "cell_type": "markdown",
      "source": [
        "**2. Scraping News from Yahoo Finance:**"
      ],
      "metadata": {
        "id": "DLOmfnzbp5jQ"
      }
    },
    {
      "cell_type": "markdown",
      "source": [
        "i’ll use BeautifulSoup to scrape news headlines associated with a particular stock from Yahoo Finance."
      ],
      "metadata": {
        "id": "BZzks5Y6p9Fg"
      }
    },
    {
      "cell_type": "code",
      "source": [
        "from bs4 import BeautifulSoup\n",
        "import requests\n",
        "\n",
        "def get_stock_news(ticker):\n",
        "    url = f'https://finance.yahoo.com/quote/{ticker}?p={ticker}&.tsrc=fin-srch'\n",
        "    response = requests.get(url)\n",
        "    soup = BeautifulSoup(response.text, 'html.parser')\n",
        "    headlines = [headline.text for headline in soup.find_all('h3', class_='Mb(5px)')]\n",
        "    return headlines"
      ],
      "metadata": {
        "id": "DMb97QZ_ppt4"
      },
      "execution_count": 6,
      "outputs": []
    },
    {
      "cell_type": "code",
      "source": [
        "get_stock_news\n"
      ],
      "metadata": {
        "colab": {
          "base_uri": "https://localhost:8080/",
          "height": 103
        },
        "id": "IXrxVh-iqFX1",
        "outputId": "f4959e34-fddd-48fb-cc16-8135004a6850"
      },
      "execution_count": 16,
      "outputs": [
        {
          "output_type": "execute_result",
          "data": {
            "text/plain": [
              "<function __main__.get_stock_news(ticker)>"
            ],
            "text/html": [
              "<div style=\"max-width:800px; border: 1px solid var(--colab-border-color);\"><style>\n",
              "      pre.function-repr-contents {\n",
              "        overflow-x: auto;\n",
              "        padding: 8px 12px;\n",
              "        max-height: 500px;\n",
              "      }\n",
              "\n",
              "      pre.function-repr-contents.function-repr-contents-collapsed {\n",
              "        cursor: pointer;\n",
              "        max-height: 100px;\n",
              "      }\n",
              "    </style>\n",
              "    <pre style=\"white-space: initial; background:\n",
              "         var(--colab-secondary-surface-color); padding: 8px 12px;\n",
              "         border-bottom: 1px solid var(--colab-border-color);\"><b>get_stock_news</b><br/>def get_stock_news(ticker)</pre><pre class=\"function-repr-contents function-repr-contents-collapsed\" style=\"\"><a class=\"filepath\" style=\"display:none\" href=\"#\">/content/&lt;ipython-input-6-4f382763d522&gt;</a>&lt;no docstring&gt;</pre></div>"
            ]
          },
          "metadata": {},
          "execution_count": 16
        }
      ]
    },
    {
      "cell_type": "markdown",
      "source": [
        "**3. Sentiment Analysis with Transformers:**"
      ],
      "metadata": {
        "id": "djx1btIYqQGo"
      }
    },
    {
      "cell_type": "markdown",
      "source": [
        "The transformers library provides an easy interface to perform sentiment analysis using Large Language Models."
      ],
      "metadata": {
        "id": "Bn2JhwRrqUIC"
      }
    },
    {
      "cell_type": "code",
      "source": [
        "from transformers import pipeline\n",
        "\n",
        "def analyze_sentiment(text):\n",
        "    sentiment_analyzer = pipeline('sentiment-analysis')\n",
        "    result = sentiment_analyzer(text)\n",
        "    return result[0]['label']"
      ],
      "metadata": {
        "id": "9om-FEYQqIlP"
      },
      "execution_count": 8,
      "outputs": []
    },
    {
      "cell_type": "code",
      "source": [
        "analyze_sentiment"
      ],
      "metadata": {
        "colab": {
          "base_uri": "https://localhost:8080/",
          "height": 103
        },
        "id": "_ttLH2NEsBwa",
        "outputId": "e7e55e02-2531-437a-cb2f-6110b82e77b1"
      },
      "execution_count": 9,
      "outputs": [
        {
          "output_type": "execute_result",
          "data": {
            "text/plain": [
              "<function __main__.analyze_sentiment(text)>"
            ],
            "text/html": [
              "<div style=\"max-width:800px; border: 1px solid var(--colab-border-color);\"><style>\n",
              "      pre.function-repr-contents {\n",
              "        overflow-x: auto;\n",
              "        padding: 8px 12px;\n",
              "        max-height: 500px;\n",
              "      }\n",
              "\n",
              "      pre.function-repr-contents.function-repr-contents-collapsed {\n",
              "        cursor: pointer;\n",
              "        max-height: 100px;\n",
              "      }\n",
              "    </style>\n",
              "    <pre style=\"white-space: initial; background:\n",
              "         var(--colab-secondary-surface-color); padding: 8px 12px;\n",
              "         border-bottom: 1px solid var(--colab-border-color);\"><b>analyze_sentiment</b><br/>def analyze_sentiment(text)</pre><pre class=\"function-repr-contents function-repr-contents-collapsed\" style=\"\"><a class=\"filepath\" style=\"display:none\" href=\"#\">/content/&lt;ipython-input-8-75c6e7c536e7&gt;</a>&lt;no docstring&gt;</pre></div>"
            ]
          },
          "metadata": {},
          "execution_count": 9
        }
      ]
    },
    {
      "cell_type": "markdown",
      "source": [
        "**Bringing It All Together:**"
      ],
      "metadata": {
        "id": "S2-j2m_zsOks"
      }
    },
    {
      "cell_type": "markdown",
      "source": [
        "Now, let’s combine these components to create a holistic analysis:\n",
        "\n"
      ],
      "metadata": {
        "id": "zrFoYobFsR-m"
      }
    },
    {
      "cell_type": "code",
      "source": [
        "# Example usage for a stock (e.g., Apple - AAPL)\n",
        "stock_ticker = 'AAPL'\n",
        "\n",
        "# Get stock data\n",
        "stock_data = get_stock_data(stock_ticker)\n",
        "\n",
        "# Get stock news\n",
        "news_headlines = get_stock_news(stock_ticker)\n",
        "\n",
        "# Analyze sentiment for each news headline\n",
        "sentiments = [analyze_sentiment(headline) for headline in news_headlines]\n",
        "\n",
        "# Print stock data\n",
        "print(f\"Stock Data for {stock_ticker}:\\n{stock_data}\")\n",
        "\n",
        "# Print news headlines and sentiments\n",
        "print(\"\\nNews Headlines:\")\n",
        "for headline, sentiment in zip(news_headlines, sentiments):\n",
        "    print(f\"- {headline} (Sentiment: {sentiment})\")"
      ],
      "metadata": {
        "colab": {
          "base_uri": "https://localhost:8080/"
        },
        "id": "78In9PQbsLFE",
        "outputId": "eba2b8dc-4564-4754-b9cb-33de3d9ff783"
      },
      "execution_count": 10,
      "outputs": [
        {
          "output_type": "stream",
          "name": "stdout",
          "text": [
            "Stock Data for AAPL:\n",
            "                                 Open        High         Low       Close  \\\n",
            "Date                                                                        \n",
            "2023-07-13 00:00:00-04:00  189.493650  190.180007  188.777452  189.533432   \n",
            "2023-07-14 00:00:00-04:00  189.225086  190.170065  188.628265  189.682663   \n",
            "2023-07-17 00:00:00-04:00  190.886254  193.293484  190.796733  192.965225   \n",
            "2023-07-18 00:00:00-04:00  192.328606  193.303425  191.403511  192.706589   \n",
            "2023-07-19 00:00:00-04:00  192.079917  197.182806  191.632282  194.069351   \n",
            "...                               ...         ...         ...         ...   \n",
            "2024-07-08 00:00:00-04:00  227.089996  227.850006  223.250000  227.820007   \n",
            "2024-07-09 00:00:00-04:00  227.929993  229.399994  226.369995  228.679993   \n",
            "2024-07-10 00:00:00-04:00  229.300003  233.080002  229.250000  232.979996   \n",
            "2024-07-11 00:00:00-04:00  231.389999  232.389999  225.770004  227.570007   \n",
            "2024-07-12 00:00:00-04:00  228.919998  232.639999  228.679993  230.539993   \n",
            "\n",
            "                             Volume  Dividends  Stock Splits  \n",
            "Date                                                          \n",
            "2023-07-13 00:00:00-04:00  41342300        0.0           0.0  \n",
            "2023-07-14 00:00:00-04:00  41573900        0.0           0.0  \n",
            "2023-07-17 00:00:00-04:00  50520200        0.0           0.0  \n",
            "2023-07-18 00:00:00-04:00  48353800        0.0           0.0  \n",
            "2023-07-19 00:00:00-04:00  80507300        0.0           0.0  \n",
            "...                             ...        ...           ...  \n",
            "2024-07-08 00:00:00-04:00  59085900        0.0           0.0  \n",
            "2024-07-09 00:00:00-04:00  48076100        0.0           0.0  \n",
            "2024-07-10 00:00:00-04:00  62627700        0.0           0.0  \n",
            "2024-07-11 00:00:00-04:00  64710600        0.0           0.0  \n",
            "2024-07-12 00:00:00-04:00  53008200        0.0           0.0  \n",
            "\n",
            "[252 rows x 7 columns]\n",
            "\n",
            "News Headlines:\n"
          ]
        }
      ]
    },
    {
      "cell_type": "code",
      "source": [
        "stock_data"
      ],
      "metadata": {
        "colab": {
          "base_uri": "https://localhost:8080/",
          "height": 455
        },
        "id": "iiyqSbUvsXsl",
        "outputId": "5f19cbe1-686d-4bc2-ffef-70081a170455"
      },
      "execution_count": 11,
      "outputs": [
        {
          "output_type": "execute_result",
          "data": {
            "text/plain": [
              "                                 Open        High         Low       Close  \\\n",
              "Date                                                                        \n",
              "2023-07-13 00:00:00-04:00  189.493650  190.180007  188.777452  189.533432   \n",
              "2023-07-14 00:00:00-04:00  189.225086  190.170065  188.628265  189.682663   \n",
              "2023-07-17 00:00:00-04:00  190.886254  193.293484  190.796733  192.965225   \n",
              "2023-07-18 00:00:00-04:00  192.328606  193.303425  191.403511  192.706589   \n",
              "2023-07-19 00:00:00-04:00  192.079917  197.182806  191.632282  194.069351   \n",
              "...                               ...         ...         ...         ...   \n",
              "2024-07-08 00:00:00-04:00  227.089996  227.850006  223.250000  227.820007   \n",
              "2024-07-09 00:00:00-04:00  227.929993  229.399994  226.369995  228.679993   \n",
              "2024-07-10 00:00:00-04:00  229.300003  233.080002  229.250000  232.979996   \n",
              "2024-07-11 00:00:00-04:00  231.389999  232.389999  225.770004  227.570007   \n",
              "2024-07-12 00:00:00-04:00  228.919998  232.639999  228.679993  230.539993   \n",
              "\n",
              "                             Volume  Dividends  Stock Splits  \n",
              "Date                                                          \n",
              "2023-07-13 00:00:00-04:00  41342300        0.0           0.0  \n",
              "2023-07-14 00:00:00-04:00  41573900        0.0           0.0  \n",
              "2023-07-17 00:00:00-04:00  50520200        0.0           0.0  \n",
              "2023-07-18 00:00:00-04:00  48353800        0.0           0.0  \n",
              "2023-07-19 00:00:00-04:00  80507300        0.0           0.0  \n",
              "...                             ...        ...           ...  \n",
              "2024-07-08 00:00:00-04:00  59085900        0.0           0.0  \n",
              "2024-07-09 00:00:00-04:00  48076100        0.0           0.0  \n",
              "2024-07-10 00:00:00-04:00  62627700        0.0           0.0  \n",
              "2024-07-11 00:00:00-04:00  64710600        0.0           0.0  \n",
              "2024-07-12 00:00:00-04:00  53008200        0.0           0.0  \n",
              "\n",
              "[252 rows x 7 columns]"
            ],
            "text/html": [
              "\n",
              "  <div id=\"df-7c042a1d-dba6-47a2-9e33-441a69415902\" class=\"colab-df-container\">\n",
              "    <div>\n",
              "<style scoped>\n",
              "    .dataframe tbody tr th:only-of-type {\n",
              "        vertical-align: middle;\n",
              "    }\n",
              "\n",
              "    .dataframe tbody tr th {\n",
              "        vertical-align: top;\n",
              "    }\n",
              "\n",
              "    .dataframe thead th {\n",
              "        text-align: right;\n",
              "    }\n",
              "</style>\n",
              "<table border=\"1\" class=\"dataframe\">\n",
              "  <thead>\n",
              "    <tr style=\"text-align: right;\">\n",
              "      <th></th>\n",
              "      <th>Open</th>\n",
              "      <th>High</th>\n",
              "      <th>Low</th>\n",
              "      <th>Close</th>\n",
              "      <th>Volume</th>\n",
              "      <th>Dividends</th>\n",
              "      <th>Stock Splits</th>\n",
              "    </tr>\n",
              "    <tr>\n",
              "      <th>Date</th>\n",
              "      <th></th>\n",
              "      <th></th>\n",
              "      <th></th>\n",
              "      <th></th>\n",
              "      <th></th>\n",
              "      <th></th>\n",
              "      <th></th>\n",
              "    </tr>\n",
              "  </thead>\n",
              "  <tbody>\n",
              "    <tr>\n",
              "      <th>2023-07-13 00:00:00-04:00</th>\n",
              "      <td>189.493650</td>\n",
              "      <td>190.180007</td>\n",
              "      <td>188.777452</td>\n",
              "      <td>189.533432</td>\n",
              "      <td>41342300</td>\n",
              "      <td>0.0</td>\n",
              "      <td>0.0</td>\n",
              "    </tr>\n",
              "    <tr>\n",
              "      <th>2023-07-14 00:00:00-04:00</th>\n",
              "      <td>189.225086</td>\n",
              "      <td>190.170065</td>\n",
              "      <td>188.628265</td>\n",
              "      <td>189.682663</td>\n",
              "      <td>41573900</td>\n",
              "      <td>0.0</td>\n",
              "      <td>0.0</td>\n",
              "    </tr>\n",
              "    <tr>\n",
              "      <th>2023-07-17 00:00:00-04:00</th>\n",
              "      <td>190.886254</td>\n",
              "      <td>193.293484</td>\n",
              "      <td>190.796733</td>\n",
              "      <td>192.965225</td>\n",
              "      <td>50520200</td>\n",
              "      <td>0.0</td>\n",
              "      <td>0.0</td>\n",
              "    </tr>\n",
              "    <tr>\n",
              "      <th>2023-07-18 00:00:00-04:00</th>\n",
              "      <td>192.328606</td>\n",
              "      <td>193.303425</td>\n",
              "      <td>191.403511</td>\n",
              "      <td>192.706589</td>\n",
              "      <td>48353800</td>\n",
              "      <td>0.0</td>\n",
              "      <td>0.0</td>\n",
              "    </tr>\n",
              "    <tr>\n",
              "      <th>2023-07-19 00:00:00-04:00</th>\n",
              "      <td>192.079917</td>\n",
              "      <td>197.182806</td>\n",
              "      <td>191.632282</td>\n",
              "      <td>194.069351</td>\n",
              "      <td>80507300</td>\n",
              "      <td>0.0</td>\n",
              "      <td>0.0</td>\n",
              "    </tr>\n",
              "    <tr>\n",
              "      <th>...</th>\n",
              "      <td>...</td>\n",
              "      <td>...</td>\n",
              "      <td>...</td>\n",
              "      <td>...</td>\n",
              "      <td>...</td>\n",
              "      <td>...</td>\n",
              "      <td>...</td>\n",
              "    </tr>\n",
              "    <tr>\n",
              "      <th>2024-07-08 00:00:00-04:00</th>\n",
              "      <td>227.089996</td>\n",
              "      <td>227.850006</td>\n",
              "      <td>223.250000</td>\n",
              "      <td>227.820007</td>\n",
              "      <td>59085900</td>\n",
              "      <td>0.0</td>\n",
              "      <td>0.0</td>\n",
              "    </tr>\n",
              "    <tr>\n",
              "      <th>2024-07-09 00:00:00-04:00</th>\n",
              "      <td>227.929993</td>\n",
              "      <td>229.399994</td>\n",
              "      <td>226.369995</td>\n",
              "      <td>228.679993</td>\n",
              "      <td>48076100</td>\n",
              "      <td>0.0</td>\n",
              "      <td>0.0</td>\n",
              "    </tr>\n",
              "    <tr>\n",
              "      <th>2024-07-10 00:00:00-04:00</th>\n",
              "      <td>229.300003</td>\n",
              "      <td>233.080002</td>\n",
              "      <td>229.250000</td>\n",
              "      <td>232.979996</td>\n",
              "      <td>62627700</td>\n",
              "      <td>0.0</td>\n",
              "      <td>0.0</td>\n",
              "    </tr>\n",
              "    <tr>\n",
              "      <th>2024-07-11 00:00:00-04:00</th>\n",
              "      <td>231.389999</td>\n",
              "      <td>232.389999</td>\n",
              "      <td>225.770004</td>\n",
              "      <td>227.570007</td>\n",
              "      <td>64710600</td>\n",
              "      <td>0.0</td>\n",
              "      <td>0.0</td>\n",
              "    </tr>\n",
              "    <tr>\n",
              "      <th>2024-07-12 00:00:00-04:00</th>\n",
              "      <td>228.919998</td>\n",
              "      <td>232.639999</td>\n",
              "      <td>228.679993</td>\n",
              "      <td>230.539993</td>\n",
              "      <td>53008200</td>\n",
              "      <td>0.0</td>\n",
              "      <td>0.0</td>\n",
              "    </tr>\n",
              "  </tbody>\n",
              "</table>\n",
              "<p>252 rows × 7 columns</p>\n",
              "</div>\n",
              "    <div class=\"colab-df-buttons\">\n",
              "\n",
              "  <div class=\"colab-df-container\">\n",
              "    <button class=\"colab-df-convert\" onclick=\"convertToInteractive('df-7c042a1d-dba6-47a2-9e33-441a69415902')\"\n",
              "            title=\"Convert this dataframe to an interactive table.\"\n",
              "            style=\"display:none;\">\n",
              "\n",
              "  <svg xmlns=\"http://www.w3.org/2000/svg\" height=\"24px\" viewBox=\"0 -960 960 960\">\n",
              "    <path d=\"M120-120v-720h720v720H120Zm60-500h600v-160H180v160Zm220 220h160v-160H400v160Zm0 220h160v-160H400v160ZM180-400h160v-160H180v160Zm440 0h160v-160H620v160ZM180-180h160v-160H180v160Zm440 0h160v-160H620v160Z\"/>\n",
              "  </svg>\n",
              "    </button>\n",
              "\n",
              "  <style>\n",
              "    .colab-df-container {\n",
              "      display:flex;\n",
              "      gap: 12px;\n",
              "    }\n",
              "\n",
              "    .colab-df-convert {\n",
              "      background-color: #E8F0FE;\n",
              "      border: none;\n",
              "      border-radius: 50%;\n",
              "      cursor: pointer;\n",
              "      display: none;\n",
              "      fill: #1967D2;\n",
              "      height: 32px;\n",
              "      padding: 0 0 0 0;\n",
              "      width: 32px;\n",
              "    }\n",
              "\n",
              "    .colab-df-convert:hover {\n",
              "      background-color: #E2EBFA;\n",
              "      box-shadow: 0px 1px 2px rgba(60, 64, 67, 0.3), 0px 1px 3px 1px rgba(60, 64, 67, 0.15);\n",
              "      fill: #174EA6;\n",
              "    }\n",
              "\n",
              "    .colab-df-buttons div {\n",
              "      margin-bottom: 4px;\n",
              "    }\n",
              "\n",
              "    [theme=dark] .colab-df-convert {\n",
              "      background-color: #3B4455;\n",
              "      fill: #D2E3FC;\n",
              "    }\n",
              "\n",
              "    [theme=dark] .colab-df-convert:hover {\n",
              "      background-color: #434B5C;\n",
              "      box-shadow: 0px 1px 3px 1px rgba(0, 0, 0, 0.15);\n",
              "      filter: drop-shadow(0px 1px 2px rgba(0, 0, 0, 0.3));\n",
              "      fill: #FFFFFF;\n",
              "    }\n",
              "  </style>\n",
              "\n",
              "    <script>\n",
              "      const buttonEl =\n",
              "        document.querySelector('#df-7c042a1d-dba6-47a2-9e33-441a69415902 button.colab-df-convert');\n",
              "      buttonEl.style.display =\n",
              "        google.colab.kernel.accessAllowed ? 'block' : 'none';\n",
              "\n",
              "      async function convertToInteractive(key) {\n",
              "        const element = document.querySelector('#df-7c042a1d-dba6-47a2-9e33-441a69415902');\n",
              "        const dataTable =\n",
              "          await google.colab.kernel.invokeFunction('convertToInteractive',\n",
              "                                                    [key], {});\n",
              "        if (!dataTable) return;\n",
              "\n",
              "        const docLinkHtml = 'Like what you see? Visit the ' +\n",
              "          '<a target=\"_blank\" href=https://colab.research.google.com/notebooks/data_table.ipynb>data table notebook</a>'\n",
              "          + ' to learn more about interactive tables.';\n",
              "        element.innerHTML = '';\n",
              "        dataTable['output_type'] = 'display_data';\n",
              "        await google.colab.output.renderOutput(dataTable, element);\n",
              "        const docLink = document.createElement('div');\n",
              "        docLink.innerHTML = docLinkHtml;\n",
              "        element.appendChild(docLink);\n",
              "      }\n",
              "    </script>\n",
              "  </div>\n",
              "\n",
              "\n",
              "<div id=\"df-b80aead1-9621-442e-84fe-9188e71aa9ae\">\n",
              "  <button class=\"colab-df-quickchart\" onclick=\"quickchart('df-b80aead1-9621-442e-84fe-9188e71aa9ae')\"\n",
              "            title=\"Suggest charts\"\n",
              "            style=\"display:none;\">\n",
              "\n",
              "<svg xmlns=\"http://www.w3.org/2000/svg\" height=\"24px\"viewBox=\"0 0 24 24\"\n",
              "     width=\"24px\">\n",
              "    <g>\n",
              "        <path d=\"M19 3H5c-1.1 0-2 .9-2 2v14c0 1.1.9 2 2 2h14c1.1 0 2-.9 2-2V5c0-1.1-.9-2-2-2zM9 17H7v-7h2v7zm4 0h-2V7h2v10zm4 0h-2v-4h2v4z\"/>\n",
              "    </g>\n",
              "</svg>\n",
              "  </button>\n",
              "\n",
              "<style>\n",
              "  .colab-df-quickchart {\n",
              "      --bg-color: #E8F0FE;\n",
              "      --fill-color: #1967D2;\n",
              "      --hover-bg-color: #E2EBFA;\n",
              "      --hover-fill-color: #174EA6;\n",
              "      --disabled-fill-color: #AAA;\n",
              "      --disabled-bg-color: #DDD;\n",
              "  }\n",
              "\n",
              "  [theme=dark] .colab-df-quickchart {\n",
              "      --bg-color: #3B4455;\n",
              "      --fill-color: #D2E3FC;\n",
              "      --hover-bg-color: #434B5C;\n",
              "      --hover-fill-color: #FFFFFF;\n",
              "      --disabled-bg-color: #3B4455;\n",
              "      --disabled-fill-color: #666;\n",
              "  }\n",
              "\n",
              "  .colab-df-quickchart {\n",
              "    background-color: var(--bg-color);\n",
              "    border: none;\n",
              "    border-radius: 50%;\n",
              "    cursor: pointer;\n",
              "    display: none;\n",
              "    fill: var(--fill-color);\n",
              "    height: 32px;\n",
              "    padding: 0;\n",
              "    width: 32px;\n",
              "  }\n",
              "\n",
              "  .colab-df-quickchart:hover {\n",
              "    background-color: var(--hover-bg-color);\n",
              "    box-shadow: 0 1px 2px rgba(60, 64, 67, 0.3), 0 1px 3px 1px rgba(60, 64, 67, 0.15);\n",
              "    fill: var(--button-hover-fill-color);\n",
              "  }\n",
              "\n",
              "  .colab-df-quickchart-complete:disabled,\n",
              "  .colab-df-quickchart-complete:disabled:hover {\n",
              "    background-color: var(--disabled-bg-color);\n",
              "    fill: var(--disabled-fill-color);\n",
              "    box-shadow: none;\n",
              "  }\n",
              "\n",
              "  .colab-df-spinner {\n",
              "    border: 2px solid var(--fill-color);\n",
              "    border-color: transparent;\n",
              "    border-bottom-color: var(--fill-color);\n",
              "    animation:\n",
              "      spin 1s steps(1) infinite;\n",
              "  }\n",
              "\n",
              "  @keyframes spin {\n",
              "    0% {\n",
              "      border-color: transparent;\n",
              "      border-bottom-color: var(--fill-color);\n",
              "      border-left-color: var(--fill-color);\n",
              "    }\n",
              "    20% {\n",
              "      border-color: transparent;\n",
              "      border-left-color: var(--fill-color);\n",
              "      border-top-color: var(--fill-color);\n",
              "    }\n",
              "    30% {\n",
              "      border-color: transparent;\n",
              "      border-left-color: var(--fill-color);\n",
              "      border-top-color: var(--fill-color);\n",
              "      border-right-color: var(--fill-color);\n",
              "    }\n",
              "    40% {\n",
              "      border-color: transparent;\n",
              "      border-right-color: var(--fill-color);\n",
              "      border-top-color: var(--fill-color);\n",
              "    }\n",
              "    60% {\n",
              "      border-color: transparent;\n",
              "      border-right-color: var(--fill-color);\n",
              "    }\n",
              "    80% {\n",
              "      border-color: transparent;\n",
              "      border-right-color: var(--fill-color);\n",
              "      border-bottom-color: var(--fill-color);\n",
              "    }\n",
              "    90% {\n",
              "      border-color: transparent;\n",
              "      border-bottom-color: var(--fill-color);\n",
              "    }\n",
              "  }\n",
              "</style>\n",
              "\n",
              "  <script>\n",
              "    async function quickchart(key) {\n",
              "      const quickchartButtonEl =\n",
              "        document.querySelector('#' + key + ' button');\n",
              "      quickchartButtonEl.disabled = true;  // To prevent multiple clicks.\n",
              "      quickchartButtonEl.classList.add('colab-df-spinner');\n",
              "      try {\n",
              "        const charts = await google.colab.kernel.invokeFunction(\n",
              "            'suggestCharts', [key], {});\n",
              "      } catch (error) {\n",
              "        console.error('Error during call to suggestCharts:', error);\n",
              "      }\n",
              "      quickchartButtonEl.classList.remove('colab-df-spinner');\n",
              "      quickchartButtonEl.classList.add('colab-df-quickchart-complete');\n",
              "    }\n",
              "    (() => {\n",
              "      let quickchartButtonEl =\n",
              "        document.querySelector('#df-b80aead1-9621-442e-84fe-9188e71aa9ae button');\n",
              "      quickchartButtonEl.style.display =\n",
              "        google.colab.kernel.accessAllowed ? 'block' : 'none';\n",
              "    })();\n",
              "  </script>\n",
              "</div>\n",
              "\n",
              "  <div id=\"id_944afeb6-fc7c-4839-8873-5aa3fe75865d\">\n",
              "    <style>\n",
              "      .colab-df-generate {\n",
              "        background-color: #E8F0FE;\n",
              "        border: none;\n",
              "        border-radius: 50%;\n",
              "        cursor: pointer;\n",
              "        display: none;\n",
              "        fill: #1967D2;\n",
              "        height: 32px;\n",
              "        padding: 0 0 0 0;\n",
              "        width: 32px;\n",
              "      }\n",
              "\n",
              "      .colab-df-generate:hover {\n",
              "        background-color: #E2EBFA;\n",
              "        box-shadow: 0px 1px 2px rgba(60, 64, 67, 0.3), 0px 1px 3px 1px rgba(60, 64, 67, 0.15);\n",
              "        fill: #174EA6;\n",
              "      }\n",
              "\n",
              "      [theme=dark] .colab-df-generate {\n",
              "        background-color: #3B4455;\n",
              "        fill: #D2E3FC;\n",
              "      }\n",
              "\n",
              "      [theme=dark] .colab-df-generate:hover {\n",
              "        background-color: #434B5C;\n",
              "        box-shadow: 0px 1px 3px 1px rgba(0, 0, 0, 0.15);\n",
              "        filter: drop-shadow(0px 1px 2px rgba(0, 0, 0, 0.3));\n",
              "        fill: #FFFFFF;\n",
              "      }\n",
              "    </style>\n",
              "    <button class=\"colab-df-generate\" onclick=\"generateWithVariable('stock_data')\"\n",
              "            title=\"Generate code using this dataframe.\"\n",
              "            style=\"display:none;\">\n",
              "\n",
              "  <svg xmlns=\"http://www.w3.org/2000/svg\" height=\"24px\"viewBox=\"0 0 24 24\"\n",
              "       width=\"24px\">\n",
              "    <path d=\"M7,19H8.4L18.45,9,17,7.55,7,17.6ZM5,21V16.75L18.45,3.32a2,2,0,0,1,2.83,0l1.4,1.43a1.91,1.91,0,0,1,.58,1.4,1.91,1.91,0,0,1-.58,1.4L9.25,21ZM18.45,9,17,7.55Zm-12,3A5.31,5.31,0,0,0,4.9,8.1,5.31,5.31,0,0,0,1,6.5,5.31,5.31,0,0,0,4.9,4.9,5.31,5.31,0,0,0,6.5,1,5.31,5.31,0,0,0,8.1,4.9,5.31,5.31,0,0,0,12,6.5,5.46,5.46,0,0,0,6.5,12Z\"/>\n",
              "  </svg>\n",
              "    </button>\n",
              "    <script>\n",
              "      (() => {\n",
              "      const buttonEl =\n",
              "        document.querySelector('#id_944afeb6-fc7c-4839-8873-5aa3fe75865d button.colab-df-generate');\n",
              "      buttonEl.style.display =\n",
              "        google.colab.kernel.accessAllowed ? 'block' : 'none';\n",
              "\n",
              "      buttonEl.onclick = () => {\n",
              "        google.colab.notebook.generateWithVariable('stock_data');\n",
              "      }\n",
              "      })();\n",
              "    </script>\n",
              "  </div>\n",
              "\n",
              "    </div>\n",
              "  </div>\n"
            ],
            "application/vnd.google.colaboratory.intrinsic+json": {
              "type": "dataframe",
              "variable_name": "stock_data",
              "summary": "{\n  \"name\": \"stock_data\",\n  \"rows\": 252,\n  \"fields\": [\n    {\n      \"column\": \"Date\",\n      \"properties\": {\n        \"dtype\": \"date\",\n        \"min\": \"2023-07-13 00:00:00-04:00\",\n        \"max\": \"2024-07-12 00:00:00-04:00\",\n        \"num_unique_values\": 252,\n        \"samples\": [\n          \"2024-03-08 00:00:00-05:00\",\n          \"2023-07-21 00:00:00-04:00\",\n          \"2023-12-19 00:00:00-05:00\"\n        ],\n        \"semantic_type\": \"\",\n        \"description\": \"\"\n      }\n    },\n    {\n      \"column\": \"Open\",\n      \"properties\": {\n        \"dtype\": \"number\",\n        \"std\": 13.201543062207179,\n        \"min\": 165.12603141917054,\n        \"max\": 231.38999938964844,\n        \"num_unique_values\": 252,\n        \"samples\": [\n          168.77108115758023,\n          193.07464908684346,\n          195.64465783257836\n        ],\n        \"semantic_type\": \"\",\n        \"description\": \"\"\n      }\n    },\n    {\n      \"column\": \"High\",\n      \"properties\": {\n        \"dtype\": \"number\",\n        \"std\": 13.44113792067155,\n        \"min\": 166.17460209603956,\n        \"max\": 233.0800018310547,\n        \"num_unique_values\": 252,\n        \"samples\": [\n          173.46471172794804,\n          193.94004834844196,\n          196.43257567143465\n        ],\n        \"semantic_type\": \"\",\n        \"description\": \"\"\n      }\n    },\n    {\n      \"column\": \"Low\",\n      \"properties\": {\n        \"dtype\": \"number\",\n        \"std\": 13.061344896811978,\n        \"min\": 163.85775250181075,\n        \"max\": 229.25,\n        \"num_unique_values\": 252,\n        \"samples\": [\n          168.71116486864128,\n          190.21979989162114,\n          195.37536290745211\n        ],\n        \"semantic_type\": \"\",\n        \"description\": \"\"\n      }\n    },\n    {\n      \"column\": \"Close\",\n      \"properties\": {\n        \"dtype\": \"number\",\n        \"std\": 13.346399505226447,\n        \"min\": 164.77650451660156,\n        \"max\": 232.97999572753906,\n        \"num_unique_values\": 250,\n        \"samples\": [\n          188.80267333984375,\n          190.92605590820312,\n          189.45095825195312\n        ],\n        \"semantic_type\": \"\",\n        \"description\": \"\"\n      }\n    },\n    {\n      \"column\": \"Volume\",\n      \"properties\": {\n        \"dtype\": \"number\",\n        \"std\": 24696766,\n        \"min\": 24048300,\n        \"max\": 246421400,\n        \"num_unique_values\": 252,\n        \"samples\": [\n          76114600,\n          71917800,\n          40714100\n        ],\n        \"semantic_type\": \"\",\n        \"description\": \"\"\n      }\n    },\n    {\n      \"column\": \"Dividends\",\n      \"properties\": {\n        \"dtype\": \"number\",\n        \"std\": 0.030373916116367063,\n        \"min\": 0.0,\n        \"max\": 0.25,\n        \"num_unique_values\": 3,\n        \"samples\": [\n          0.0,\n          0.24,\n          0.25\n        ],\n        \"semantic_type\": \"\",\n        \"description\": \"\"\n      }\n    },\n    {\n      \"column\": \"Stock Splits\",\n      \"properties\": {\n        \"dtype\": \"number\",\n        \"std\": 0.0,\n        \"min\": 0.0,\n        \"max\": 0.0,\n        \"num_unique_values\": 1,\n        \"samples\": [\n          0.0\n        ],\n        \"semantic_type\": \"\",\n        \"description\": \"\"\n      }\n    }\n  ]\n}"
            }
          },
          "metadata": {},
          "execution_count": 11
        }
      ]
    },
    {
      "cell_type": "code",
      "source": [
        "sentiments"
      ],
      "metadata": {
        "colab": {
          "base_uri": "https://localhost:8080/"
        },
        "id": "XGA685kFshW5",
        "outputId": "c93187c5-8a53-42f6-8c0f-b196bc648f58"
      },
      "execution_count": 17,
      "outputs": [
        {
          "output_type": "execute_result",
          "data": {
            "text/plain": [
              "[]"
            ]
          },
          "metadata": {},
          "execution_count": 17
        }
      ]
    },
    {
      "cell_type": "code",
      "source": [],
      "metadata": {
        "id": "ZDDIw4t7ttFE"
      },
      "execution_count": null,
      "outputs": []
    },
    {
      "cell_type": "markdown",
      "source": [
        "Key Takeaways:\n",
        "Data-Driven Decision Making:\n",
        "\n",
        "The example showcases the power of data-driven decision-making by combining historical stock prices, real-time news data, and sentiment analysis.\n",
        "Automating Analysis with AI:\n",
        "\n",
        "Automation of tasks such as sentiment analysis using LLMs accelerates the analysis process, allowing investors to stay ahead in a fast-paced market.\n",
        "Enhanced Financial Insights:\n",
        "\n",
        "By integrating AI technologies, investors can gain deeper insights into market sentiments, potentially informing investment decisions.\n",
        "Caution and Professional Advice:\n",
        "\n",
        "It’s important to note that while AI tools can provide valuable insights, financial decisions should be approached with caution. Professional financial advice is recommended for making significant investment decisions."
      ],
      "metadata": {
        "id": "xQFOybNFuORP"
      }
    },
    {
      "cell_type": "code",
      "source": [],
      "metadata": {
        "id": "Eh6awrW4uPDk"
      },
      "execution_count": null,
      "outputs": []
    }
  ]
}